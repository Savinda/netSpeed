{
 "cells": [
  {
   "cell_type": "code",
   "execution_count": 30,
   "metadata": {},
   "outputs": [
    {
     "data": {
      "text/html": [
       "<div>\n",
       "<style scoped>\n",
       "    .dataframe tbody tr th:only-of-type {\n",
       "        vertical-align: middle;\n",
       "    }\n",
       "\n",
       "    .dataframe tbody tr th {\n",
       "        vertical-align: top;\n",
       "    }\n",
       "\n",
       "    .dataframe thead th {\n",
       "        text-align: right;\n",
       "    }\n",
       "</style>\n",
       "<table border=\"1\" class=\"dataframe\">\n",
       "  <thead>\n",
       "    <tr style=\"text-align: right;\">\n",
       "      <th></th>\n",
       "      <th>timestamp</th>\n",
       "      <th>lat</th>\n",
       "      <th>long</th>\n",
       "      <th>upload_speed</th>\n",
       "      <th>download_speed</th>\n",
       "      <th>isp</th>\n",
       "    </tr>\n",
       "  </thead>\n",
       "  <tbody>\n",
       "    <tr>\n",
       "      <td>0</td>\n",
       "      <td>2020-03-13 14:07:15</td>\n",
       "      <td>123.231.127.164</td>\n",
       "      <td>77.025</td>\n",
       "      <td>2.351e+07</td>\n",
       "      <td>2.649e+06</td>\n",
       "      <td>Dialog Axiata PLC</td>\n",
       "    </tr>\n",
       "    <tr>\n",
       "      <td>1</td>\n",
       "      <td>2020-03-13 14:17:45</td>\n",
       "      <td>123.231.127.164</td>\n",
       "      <td>74.654</td>\n",
       "      <td>1.594e+07</td>\n",
       "      <td>3.898e+06</td>\n",
       "      <td>Dialog Axiata PLC</td>\n",
       "    </tr>\n",
       "    <tr>\n",
       "      <td>2</td>\n",
       "      <td>2020-03-13 14:28:20</td>\n",
       "      <td>123.231.127.164</td>\n",
       "      <td>66.853</td>\n",
       "      <td>1.384e+07</td>\n",
       "      <td>2.341e+06</td>\n",
       "      <td>Hutchison Telecommunications Lanka (Pvt) Limited</td>\n",
       "    </tr>\n",
       "    <tr>\n",
       "      <td>3</td>\n",
       "      <td>2020-03-13 14:38:53</td>\n",
       "      <td>123.231.127.164</td>\n",
       "      <td>71.082</td>\n",
       "      <td>2.550e+07</td>\n",
       "      <td>4.134e+06</td>\n",
       "      <td>Dialog Axiata PLC</td>\n",
       "    </tr>\n",
       "    <tr>\n",
       "      <td>4</td>\n",
       "      <td>2020-03-13 14:49:24</td>\n",
       "      <td>123.231.127.164</td>\n",
       "      <td>70.523</td>\n",
       "      <td>2.394e+07</td>\n",
       "      <td>4.239e+06</td>\n",
       "      <td>Dialog Axiata PLC</td>\n",
       "    </tr>\n",
       "  </tbody>\n",
       "</table>\n",
       "</div>"
      ],
      "text/plain": [
       "             timestamp              lat    long  upload_speed  download_speed  \\\n",
       "0  2020-03-13 14:07:15  123.231.127.164  77.025     2.351e+07       2.649e+06   \n",
       "1  2020-03-13 14:17:45  123.231.127.164  74.654     1.594e+07       3.898e+06   \n",
       "2  2020-03-13 14:28:20  123.231.127.164  66.853     1.384e+07       2.341e+06   \n",
       "3  2020-03-13 14:38:53  123.231.127.164  71.082     2.550e+07       4.134e+06   \n",
       "4  2020-03-13 14:49:24  123.231.127.164  70.523     2.394e+07       4.239e+06   \n",
       "\n",
       "                                                isp  \n",
       "0                                 Dialog Axiata PLC  \n",
       "1                                 Dialog Axiata PLC  \n",
       "2  Hutchison Telecommunications Lanka (Pvt) Limited  \n",
       "3                                 Dialog Axiata PLC  \n",
       "4                                 Dialog Axiata PLC  "
      ]
     },
     "execution_count": 30,
     "metadata": {},
     "output_type": "execute_result"
    }
   ],
   "source": [
    "import numpy as np\n",
    "import pandas as pd\n",
    "import matplotlib.pyplot as plt\n",
    "\n",
    "url = 'https://raw.githubusercontent.com/Savinda/netSpeed/master/log.csv'\n",
    "names = ['timestamp', 'lat', 'long', 'upload_speed', 'download_speed', 'isp']\n",
    "dataset = pd.read_csv(url, names=names)\n",
    "dataset.head()"
   ]
  },
  {
   "cell_type": "code",
   "execution_count": 31,
   "metadata": {},
   "outputs": [
    {
     "data": {
      "text/html": [
       "<div>\n",
       "<style scoped>\n",
       "    .dataframe tbody tr th:only-of-type {\n",
       "        vertical-align: middle;\n",
       "    }\n",
       "\n",
       "    .dataframe tbody tr th {\n",
       "        vertical-align: top;\n",
       "    }\n",
       "\n",
       "    .dataframe thead th {\n",
       "        text-align: right;\n",
       "    }\n",
       "</style>\n",
       "<table border=\"1\" class=\"dataframe\">\n",
       "  <thead>\n",
       "    <tr style=\"text-align: right;\">\n",
       "      <th></th>\n",
       "      <th>long</th>\n",
       "      <th>upload_speed</th>\n",
       "      <th>download_speed</th>\n",
       "    </tr>\n",
       "  </thead>\n",
       "  <tbody>\n",
       "    <tr>\n",
       "      <td>count</td>\n",
       "      <td>7.000</td>\n",
       "      <td>7.000e+00</td>\n",
       "      <td>7.000e+00</td>\n",
       "    </tr>\n",
       "    <tr>\n",
       "      <td>mean</td>\n",
       "      <td>69.633</td>\n",
       "      <td>2.116e+07</td>\n",
       "      <td>3.757e+06</td>\n",
       "    </tr>\n",
       "    <tr>\n",
       "      <td>std</td>\n",
       "      <td>5.377</td>\n",
       "      <td>4.992e+06</td>\n",
       "      <td>1.031e+06</td>\n",
       "    </tr>\n",
       "    <tr>\n",
       "      <td>min</td>\n",
       "      <td>61.264</td>\n",
       "      <td>1.384e+07</td>\n",
       "      <td>2.341e+06</td>\n",
       "    </tr>\n",
       "    <tr>\n",
       "      <td>25%</td>\n",
       "      <td>66.443</td>\n",
       "      <td>1.731e+07</td>\n",
       "      <td>3.138e+06</td>\n",
       "    </tr>\n",
       "    <tr>\n",
       "      <td>50%</td>\n",
       "      <td>70.523</td>\n",
       "      <td>2.351e+07</td>\n",
       "      <td>3.898e+06</td>\n",
       "    </tr>\n",
       "    <tr>\n",
       "      <td>75%</td>\n",
       "      <td>72.868</td>\n",
       "      <td>2.472e+07</td>\n",
       "      <td>4.186e+06</td>\n",
       "    </tr>\n",
       "    <tr>\n",
       "      <td>max</td>\n",
       "      <td>77.025</td>\n",
       "      <td>2.669e+07</td>\n",
       "      <td>5.409e+06</td>\n",
       "    </tr>\n",
       "  </tbody>\n",
       "</table>\n",
       "</div>"
      ],
      "text/plain": [
       "         long  upload_speed  download_speed\n",
       "count   7.000     7.000e+00       7.000e+00\n",
       "mean   69.633     2.116e+07       3.757e+06\n",
       "std     5.377     4.992e+06       1.031e+06\n",
       "min    61.264     1.384e+07       2.341e+06\n",
       "25%    66.443     1.731e+07       3.138e+06\n",
       "50%    70.523     2.351e+07       3.898e+06\n",
       "75%    72.868     2.472e+07       4.186e+06\n",
       "max    77.025     2.669e+07       5.409e+06"
      ]
     },
     "execution_count": 31,
     "metadata": {},
     "output_type": "execute_result"
    }
   ],
   "source": [
    "# lets see how this goes when I get more data\n",
    "dataset.shape\n",
    "dataset.describe()"
   ]
  },
  {
   "cell_type": "code",
   "execution_count": 32,
   "metadata": {},
   "outputs": [
    {
     "name": "stdout",
     "output_type": "stream",
     "text": [
      "isp\n",
      "Dialog Axiata PLC                                   6\n",
      "Hutchison Telecommunications Lanka (Pvt) Limited    1\n",
      "dtype: int64\n"
     ]
    }
   ],
   "source": [
    "# class distribution\n",
    "class_counts = dataset.groupby('isp').size()\n",
    "print(class_counts)"
   ]
  },
  {
   "cell_type": "code",
   "execution_count": 33,
   "metadata": {},
   "outputs": [
    {
     "name": "stdout",
     "output_type": "stream",
     "text": [
      "                 long  upload_speed  download_speed\n",
      "long            1.000         0.131          -0.224\n",
      "upload_speed    0.131         1.000           0.630\n",
      "download_speed -0.224         0.630           1.000\n"
     ]
    }
   ],
   "source": [
    "# correlation between attributes\n",
    "from pandas import set_option\n",
    "\n",
    "set_option('display.width', 100)\n",
    "set_option('precision', 3)\n",
    "correlations = dataset.corr(method='pearson')\n",
    "print(correlations)"
   ]
  },
  {
   "cell_type": "code",
   "execution_count": 34,
   "metadata": {},
   "outputs": [
    {
     "name": "stdout",
     "output_type": "stream",
     "text": [
      "long             -0.181\n",
      "upload_speed     -0.494\n",
      "download_speed    0.102\n",
      "dtype: float64\n"
     ]
    }
   ],
   "source": [
    "# skew for each attribute\n",
    "skew = dataset.skew()\n",
    "print(skew)"
   ]
  },
  {
   "cell_type": "code",
   "execution_count": 35,
   "metadata": {},
   "outputs": [
    {
     "data": {
      "image/png": "[encoded data removed]",
      "text/plain": [
       "<Figure size 432x288 with 3 Axes>"
      ]
     },
     "metadata": {
      "needs_background": "light"
     },
     "output_type": "display_data"
    }
   ],
   "source": [
    "# univariate histogram\n",
    "dataset.hist(layout=(1,3))\n",
    "plt.tight_layout()\n",
    "plt.show()"
   ]
  },
  {
   "cell_type": "code",
   "execution_count": 37,
   "metadata": {},
   "outputs": [
    {
     "data": {
      "image/png": "[encoded data removed]",
      "text/plain": [
       "<Figure size 432x288 with 9 Axes>"
      ]
     },
     "metadata": {
      "needs_background": "light"
     },
     "output_type": "display_data"
    }
   ],
   "source": [
    "# univatiate density\n",
    "dataset.plot(kind='density', subplots=True, layout=(3,3), sharex=False)\n",
    "plt.show()"
   ]
  },
  {
   "cell_type": "code",
   "execution_count": 38,
   "metadata": {},
   "outputs": [
    {
     "data": {
      "text/plain": [
       "long                 AxesSubplot(0.125,0.125;0.227941x0.755)\n",
       "upload_speed      AxesSubplot(0.398529,0.125;0.227941x0.755)\n",
       "download_speed    AxesSubplot(0.672059,0.125;0.227941x0.755)\n",
       "dtype: object"
      ]
     },
     "execution_count": 38,
     "metadata": {},
     "output_type": "execute_result"
    },
    {
     "data": {
      "image/png": "[encoded data removed]",
      "text/plain": [
       "<Figure size 432x288 with 3 Axes>"
      ]
     },
     "metadata": {
      "needs_background": "light"
     },
     "output_type": "display_data"
    }
   ],
   "source": [
    "# box and whisker plots\n",
    "dataset.plot(kind='box', subplots=True, sharex=False, sharey=False)"
   ]
  },
  {
   "cell_type": "code",
   "execution_count": null,
   "metadata": {},
   "outputs": [],
   "source": []
  }
 ],
 "metadata": {
  "kernelspec": {
   "display_name": "Python 3",
   "language": "python",
   "name": "python3"
  },
  "language_info": {
   "codemirror_mode": {
    "name": "ipython",
    "version": 3
   },
   "file_extension": ".py",
   "mimetype": "text/x-python",
   "name": "python",
   "nbconvert_exporter": "python",
   "pygments_lexer": "ipython3",
   "version": "3.7.4"
  }
 },
 "nbformat": 4,
 "nbformat_minor": 2
}
