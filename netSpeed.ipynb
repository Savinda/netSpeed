{
 "cells": [
  {
   "cell_type": "code",
   "execution_count": 2,
   "metadata": {},
   "outputs": [
    {
     "data": {
      "text/html": [
       "<div>\n",
       "<style scoped>\n",
       "    .dataframe tbody tr th:only-of-type {\n",
       "        vertical-align: middle;\n",
       "    }\n",
       "\n",
       "    .dataframe tbody tr th {\n",
       "        vertical-align: top;\n",
       "    }\n",
       "\n",
       "    .dataframe thead th {\n",
       "        text-align: right;\n",
       "    }\n",
       "</style>\n",
       "<table border=\"1\" class=\"dataframe\">\n",
       "  <thead>\n",
       "    <tr style=\"text-align: right;\">\n",
       "      <th></th>\n",
       "      <th>timestamp</th>\n",
       "      <th>lat</th>\n",
       "      <th>long</th>\n",
       "      <th>upload_speed</th>\n",
       "      <th>download_speed</th>\n",
       "      <th>isp</th>\n",
       "    </tr>\n",
       "  </thead>\n",
       "  <tbody>\n",
       "    <tr>\n",
       "      <td>0</td>\n",
       "      <td>2020-03-13 14:07:15</td>\n",
       "      <td>123.231.127.164</td>\n",
       "      <td>77.025</td>\n",
       "      <td>2.350924e+07</td>\n",
       "      <td>2.649214e+06</td>\n",
       "      <td>Dialog Axiata PLC</td>\n",
       "    </tr>\n",
       "    <tr>\n",
       "      <td>1</td>\n",
       "      <td>2020-03-13 14:17:45</td>\n",
       "      <td>123.231.127.164</td>\n",
       "      <td>74.654</td>\n",
       "      <td>1.594218e+07</td>\n",
       "      <td>3.898107e+06</td>\n",
       "      <td>Dialog Axiata PLC</td>\n",
       "    </tr>\n",
       "    <tr>\n",
       "      <td>2</td>\n",
       "      <td>2020-03-13 14:28:20</td>\n",
       "      <td>123.231.127.164</td>\n",
       "      <td>66.853</td>\n",
       "      <td>1.384075e+07</td>\n",
       "      <td>2.340964e+06</td>\n",
       "      <td>Hutchison Telecommunications Lanka (Pvt) Limited</td>\n",
       "    </tr>\n",
       "    <tr>\n",
       "      <td>3</td>\n",
       "      <td>2020-03-13 14:38:53</td>\n",
       "      <td>123.231.127.164</td>\n",
       "      <td>71.082</td>\n",
       "      <td>2.549592e+07</td>\n",
       "      <td>4.133795e+06</td>\n",
       "      <td>Dialog Axiata PLC</td>\n",
       "    </tr>\n",
       "  </tbody>\n",
       "</table>\n",
       "</div>"
      ],
      "text/plain": [
       "             timestamp              lat    long  upload_speed  download_speed  \\\n",
       "0  2020-03-13 14:07:15  123.231.127.164  77.025  2.350924e+07    2.649214e+06   \n",
       "1  2020-03-13 14:17:45  123.231.127.164  74.654  1.594218e+07    3.898107e+06   \n",
       "2  2020-03-13 14:28:20  123.231.127.164  66.853  1.384075e+07    2.340964e+06   \n",
       "3  2020-03-13 14:38:53  123.231.127.164  71.082  2.549592e+07    4.133795e+06   \n",
       "\n",
       "                                                isp  \n",
       "0                                 Dialog Axiata PLC  \n",
       "1                                 Dialog Axiata PLC  \n",
       "2  Hutchison Telecommunications Lanka (Pvt) Limited  \n",
       "3                                 Dialog Axiata PLC  "
      ]
     },
     "execution_count": 2,
     "metadata": {},
     "output_type": "execute_result"
    }
   ],
   "source": [
    "import numpy as np\n",
    "import pandas as pd\n",
    "import matplotlib.pyplot as plt\n",
    "\n",
    "url = 'https://raw.githubusercontent.com/Savinda/netSpeed/master/log.csv'\n",
    "names = ['timestamp', 'lat', 'long', 'upload_speed', 'download_speed', 'isp']\n",
    "dataset = pd.read_csv(url, names=names)\n",
    "dataset.head()"
   ]
  },
  {
   "cell_type": "code",
   "execution_count": 4,
   "metadata": {},
   "outputs": [
    {
     "data": {
      "text/plain": [
       "timestamp          object\n",
       "lat                object\n",
       "long              float64\n",
       "upload_speed      float64\n",
       "download_speed    float64\n",
       "isp                object\n",
       "dtype: object"
      ]
     },
     "execution_count": 4,
     "metadata": {},
     "output_type": "execute_result"
    }
   ],
   "source": [
    "# lets see how this goes when I get more data\n",
    "dataset.shape\n",
    "dataset.dtypes"
   ]
  },
  {
   "cell_type": "code",
   "execution_count": null,
   "metadata": {},
   "outputs": [],
   "source": []
  }
 ],
 "metadata": {
  "kernelspec": {
   "display_name": "Python 3",
   "language": "python",
   "name": "python3"
  },
  "language_info": {
   "codemirror_mode": {
    "name": "ipython",
    "version": 3
   },
   "file_extension": ".py",
   "mimetype": "text/x-python",
   "name": "python",
   "nbconvert_exporter": "python",
   "pygments_lexer": "ipython3",
   "version": "3.7.4"
  }
 },
 "nbformat": 4,
 "nbformat_minor": 2
}
