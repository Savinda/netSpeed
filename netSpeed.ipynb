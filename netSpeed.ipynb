{
 "cells": [
  {
   "cell_type": "code",
   "execution_count": 8,
   "metadata": {},
   "outputs": [
    {
     "data": {
      "text/html": [
       "<div>\n",
       "<style scoped>\n",
       "    .dataframe tbody tr th:only-of-type {\n",
       "        vertical-align: middle;\n",
       "    }\n",
       "\n",
       "    .dataframe tbody tr th {\n",
       "        vertical-align: top;\n",
       "    }\n",
       "\n",
       "    .dataframe thead th {\n",
       "        text-align: right;\n",
       "    }\n",
       "</style>\n",
       "<table border=\"1\" class=\"dataframe\">\n",
       "  <thead>\n",
       "    <tr style=\"text-align: right;\">\n",
       "      <th></th>\n",
       "      <th>timestamp</th>\n",
       "      <th>lat</th>\n",
       "      <th>long</th>\n",
       "      <th>upload_speed</th>\n",
       "      <th>download_speed</th>\n",
       "      <th>isp</th>\n",
       "    </tr>\n",
       "  </thead>\n",
       "  <tbody>\n",
       "    <tr>\n",
       "      <td>0</td>\n",
       "      <td>2020-03-13 14:07:15</td>\n",
       "      <td>123.231.127.164</td>\n",
       "      <td>77.025</td>\n",
       "      <td>2.350924e+07</td>\n",
       "      <td>2.649214e+06</td>\n",
       "      <td>Dialog Axiata PLC</td>\n",
       "    </tr>\n",
       "    <tr>\n",
       "      <td>1</td>\n",
       "      <td>2020-03-13 14:17:45</td>\n",
       "      <td>123.231.127.164</td>\n",
       "      <td>74.654</td>\n",
       "      <td>1.594218e+07</td>\n",
       "      <td>3.898107e+06</td>\n",
       "      <td>Dialog Axiata PLC</td>\n",
       "    </tr>\n",
       "    <tr>\n",
       "      <td>2</td>\n",
       "      <td>2020-03-13 14:28:20</td>\n",
       "      <td>123.231.127.164</td>\n",
       "      <td>66.853</td>\n",
       "      <td>1.384075e+07</td>\n",
       "      <td>2.340964e+06</td>\n",
       "      <td>Hutchison Telecommunications Lanka (Pvt) Limited</td>\n",
       "    </tr>\n",
       "    <tr>\n",
       "      <td>3</td>\n",
       "      <td>2020-03-13 14:38:53</td>\n",
       "      <td>123.231.127.164</td>\n",
       "      <td>71.082</td>\n",
       "      <td>2.549592e+07</td>\n",
       "      <td>4.133795e+06</td>\n",
       "      <td>Dialog Axiata PLC</td>\n",
       "    </tr>\n",
       "    <tr>\n",
       "      <td>4</td>\n",
       "      <td>2020-03-13 14:49:24</td>\n",
       "      <td>123.231.127.164</td>\n",
       "      <td>70.523</td>\n",
       "      <td>2.394135e+07</td>\n",
       "      <td>4.239118e+06</td>\n",
       "      <td>Dialog Axiata PLC</td>\n",
       "    </tr>\n",
       "  </tbody>\n",
       "</table>\n",
       "</div>"
      ],
      "text/plain": [
       "             timestamp              lat    long  upload_speed  download_speed  \\\n",
       "0  2020-03-13 14:07:15  123.231.127.164  77.025  2.350924e+07    2.649214e+06   \n",
       "1  2020-03-13 14:17:45  123.231.127.164  74.654  1.594218e+07    3.898107e+06   \n",
       "2  2020-03-13 14:28:20  123.231.127.164  66.853  1.384075e+07    2.340964e+06   \n",
       "3  2020-03-13 14:38:53  123.231.127.164  71.082  2.549592e+07    4.133795e+06   \n",
       "4  2020-03-13 14:49:24  123.231.127.164  70.523  2.394135e+07    4.239118e+06   \n",
       "\n",
       "                                                isp  \n",
       "0                                 Dialog Axiata PLC  \n",
       "1                                 Dialog Axiata PLC  \n",
       "2  Hutchison Telecommunications Lanka (Pvt) Limited  \n",
       "3                                 Dialog Axiata PLC  \n",
       "4                                 Dialog Axiata PLC  "
      ]
     },
     "execution_count": 8,
     "metadata": {},
     "output_type": "execute_result"
    }
   ],
   "source": [
    "import numpy as np\n",
    "import pandas as pd\n",
    "import matplotlib.pyplot as plt\n",
    "\n",
    "url = 'https://raw.githubusercontent.com/Savinda/netSpeed/master/log.csv'\n",
    "names = ['timestamp', 'lat', 'long', 'upload_speed', 'download_speed', 'isp']\n",
    "dataset = pd.read_csv(url, names=names)\n",
    "dataset.head()"
   ]
  },
  {
   "cell_type": "code",
   "execution_count": 9,
   "metadata": {},
   "outputs": [
    {
     "data": {
      "text/html": [
       "<div>\n",
       "<style scoped>\n",
       "    .dataframe tbody tr th:only-of-type {\n",
       "        vertical-align: middle;\n",
       "    }\n",
       "\n",
       "    .dataframe tbody tr th {\n",
       "        vertical-align: top;\n",
       "    }\n",
       "\n",
       "    .dataframe thead th {\n",
       "        text-align: right;\n",
       "    }\n",
       "</style>\n",
       "<table border=\"1\" class=\"dataframe\">\n",
       "  <thead>\n",
       "    <tr style=\"text-align: right;\">\n",
       "      <th></th>\n",
       "      <th>long</th>\n",
       "      <th>upload_speed</th>\n",
       "      <th>download_speed</th>\n",
       "    </tr>\n",
       "  </thead>\n",
       "  <tbody>\n",
       "    <tr>\n",
       "      <td>count</td>\n",
       "      <td>6.000000</td>\n",
       "      <td>6.000000e+00</td>\n",
       "      <td>6.000000e+00</td>\n",
       "    </tr>\n",
       "    <tr>\n",
       "      <td>mean</td>\n",
       "      <td>71.028333</td>\n",
       "      <td>2.156930e+07</td>\n",
       "      <td>3.778362e+06</td>\n",
       "    </tr>\n",
       "    <tr>\n",
       "      <td>std</td>\n",
       "      <td>4.283701</td>\n",
       "      <td>5.336430e+06</td>\n",
       "      <td>1.127205e+06</td>\n",
       "    </tr>\n",
       "    <tr>\n",
       "      <td>min</td>\n",
       "      <td>66.033000</td>\n",
       "      <td>1.384075e+07</td>\n",
       "      <td>2.340964e+06</td>\n",
       "    </tr>\n",
       "    <tr>\n",
       "      <td>25%</td>\n",
       "      <td>67.770500</td>\n",
       "      <td>1.783394e+07</td>\n",
       "      <td>2.961437e+06</td>\n",
       "    </tr>\n",
       "    <tr>\n",
       "      <td>50%</td>\n",
       "      <td>70.802500</td>\n",
       "      <td>2.372530e+07</td>\n",
       "      <td>4.015951e+06</td>\n",
       "    </tr>\n",
       "    <tr>\n",
       "      <td>75%</td>\n",
       "      <td>73.761000</td>\n",
       "      <td>2.510728e+07</td>\n",
       "      <td>4.212787e+06</td>\n",
       "    </tr>\n",
       "    <tr>\n",
       "      <td>max</td>\n",
       "      <td>77.025000</td>\n",
       "      <td>2.668634e+07</td>\n",
       "      <td>5.408974e+06</td>\n",
       "    </tr>\n",
       "  </tbody>\n",
       "</table>\n",
       "</div>"
      ],
      "text/plain": [
       "            long  upload_speed  download_speed\n",
       "count   6.000000  6.000000e+00    6.000000e+00\n",
       "mean   71.028333  2.156930e+07    3.778362e+06\n",
       "std     4.283701  5.336430e+06    1.127205e+06\n",
       "min    66.033000  1.384075e+07    2.340964e+06\n",
       "25%    67.770500  1.783394e+07    2.961437e+06\n",
       "50%    70.802500  2.372530e+07    4.015951e+06\n",
       "75%    73.761000  2.510728e+07    4.212787e+06\n",
       "max    77.025000  2.668634e+07    5.408974e+06"
      ]
     },
     "execution_count": 9,
     "metadata": {},
     "output_type": "execute_result"
    }
   ],
   "source": [
    "# lets see how this goes when I get more data\n",
    "dataset.shape\n",
    "dataset.describe()"
   ]
  },
  {
   "cell_type": "code",
   "execution_count": 15,
   "metadata": {},
   "outputs": [
    {
     "name": "stdout",
     "output_type": "stream",
     "text": [
      "isp\n",
      "Dialog Axiata PLC                                   5\n",
      "Hutchison Telecommunications Lanka (Pvt) Limited    1\n",
      "dtype: int64\n"
     ]
    }
   ],
   "source": [
    "# class distribution\n",
    "class_counts = dataset.groupby('isp').size()\n",
    "print(class_counts)"
   ]
  },
  {
   "cell_type": "code",
   "execution_count": 16,
   "metadata": {},
   "outputs": [
    {
     "name": "stdout",
     "output_type": "stream",
     "text": [
      "                 long  upload_speed  download_speed\n",
      "long            1.000        -0.027          -0.360\n",
      "upload_speed   -0.027         1.000           0.634\n",
      "download_speed -0.360         0.634           1.000\n"
     ]
    }
   ],
   "source": [
    "# correlation between attributes\n",
    "from pandas import set_option\n",
    "\n",
    "set_option('display.width', 100)\n",
    "set_option('precision', 3)\n",
    "correlations = dataset.corr(method='pearson')\n",
    "print(correlations)"
   ]
  },
  {
   "cell_type": "code",
   "execution_count": 17,
   "metadata": {},
   "outputs": [
    {
     "name": "stdout",
     "output_type": "stream",
     "text": [
      "long              0.251\n",
      "upload_speed     -0.838\n",
      "download_speed    0.015\n",
      "dtype: float64\n"
     ]
    }
   ],
   "source": [
    "# skew for each attribute\n",
    "skew = dataset.skew()\n",
    "print(skew)"
   ]
  },
  {
   "cell_type": "code",
   "execution_count": 20,
   "metadata": {},
   "outputs": [
    {
     "data": {
      "image/png": "[encoded data removed]",
      "text/plain": [
       "<Figure size 432x288 with 3 Axes>"
      ]
     },
     "metadata": {
      "needs_background": "light"
     },
     "output_type": "display_data"
    }
   ],
   "source": [
    "# univariata histogram\n",
    "dataset.hist(layout=(1,3))\n",
    "plt.tight_layout()\n",
    "plt.show()"
   ]
  },
  {
   "cell_type": "code",
   "execution_count": null,
   "metadata": {},
   "outputs": [],
   "source": []
  }
 ],
 "metadata": {
  "kernelspec": {
   "display_name": "Python 3",
   "language": "python",
   "name": "python3"
  },
  "language_info": {
   "codemirror_mode": {
    "name": "ipython",
    "version": 3
   },
   "file_extension": ".py",
   "mimetype": "text/x-python",
   "name": "python",
   "nbconvert_exporter": "python",
   "pygments_lexer": "ipython3",
   "version": "3.7.4"
  }
 },
 "nbformat": 4,
 "nbformat_minor": 2
}
